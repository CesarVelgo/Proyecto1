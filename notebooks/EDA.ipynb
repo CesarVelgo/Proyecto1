{
 "cells": [
  {
   "cell_type": "markdown",
   "metadata": {},
   "source": [
    "## Parte 1: Exploración y Visualización de Datos (EDA)"
   ]
  },
  {
   "cell_type": "markdown",
   "metadata": {},
   "source": [
    "### 1. Carga y Exploración Inicial de Datos:\n",
    "* Cargar el dataset y revisar su estructura básica.\n",
    "* Describir las variables y su distribución.\n",
    "* Identificar y tratar valores nulos y outliers."
   ]
  },
  {
   "cell_type": "code",
   "execution_count": null,
   "metadata": {
    "vscode": {
     "languageId": "plaintext"
    }
   },
   "outputs": [],
   "source": []
  },
  {
   "cell_type": "markdown",
   "metadata": {},
   "source": [
    "### 2. Análisis de Correlación:\n",
    "* Realizar un análisis de correlación y crear un mapa de calor para visualizar las relaciones entre las variables."
   ]
  },
  {
   "cell_type": "code",
   "execution_count": null,
   "metadata": {
    "vscode": {
     "languageId": "plaintext"
    }
   },
   "outputs": [],
   "source": []
  },
  {
   "cell_type": "markdown",
   "metadata": {},
   "source": [
    "### 3. Visualización de Datos:\n",
    "* Crear subplots para comparar diferentes variables clave.\n",
    "* Añadir cuadrículas, leyendas, anotaciones y flechas a los gráficos para mejorar la claridad y la información."
   ]
  },
  {
   "cell_type": "code",
   "execution_count": null,
   "metadata": {
    "vscode": {
     "languageId": "plaintext"
    }
   },
   "outputs": [],
   "source": []
  }
 ],
 "metadata": {
  "language_info": {
   "name": "python"
  }
 },
 "nbformat": 4,
 "nbformat_minor": 2
}
